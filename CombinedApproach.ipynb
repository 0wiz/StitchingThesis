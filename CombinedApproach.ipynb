{
 "cells": [
  {
   "cell_type": "code",
   "execution_count": 1,
   "metadata": {},
   "outputs": [],
   "source": [
    "# Local\n",
    "from resources import Tools # type: ignore\n",
    "from resources import FlowTools # type: ignore\n",
    "import FeatureDetection\n",
    "import OpticalFlow\n",
    "\n",
    "# Math\n",
    "import numpy as np\n",
    "import matplotlib.pyplot as plt\n",
    "\n",
    "# Data\n",
    "import cv2 as cv"
   ]
  },
  {
   "cell_type": "code",
   "execution_count": null,
   "metadata": {},
   "outputs": [],
   "source": [
    "# Get image from file\n",
    "file = 'Source/Vary Clouds (South Horizon)/#9 2024-04-08 13.05.13.png'\n",
    "Img1, Img2 = np.hsplit(cv.imread(file)[:,:,::-1], 2)\n",
    "imgH, imgW = Img1.shape[:2]\n",
    "\n",
    "p1L, p2L, c1, c2, translation, rotation, center, angle = FeatureDetection.FeatureDetection(Img1, Img2)\n",
    "p0 = np.array([np.repeat(range(imgW), imgH), np.tile(range(imgH), imgW)])"
   ]
  },
  {
   "cell_type": "code",
   "execution_count": null,
   "metadata": {},
   "outputs": [],
   "source": [
    "img, _, _, p1, p2 = Tools.mergeAndWarpImages(p0, p0, c1, c2, 2, translation, rotation, center, [Img1, Img2])\n",
    "\n",
    "_, (ax1, ax2) = plt.subplots(1, 2, figsize=(20, 8), constrained_layout=True)\n",
    "ax1.imshow(img/np.max(img)); ax1.set_axis_off()\n",
    "\n",
    "overlap = Tools.refineAndConcatenateOverlaps(p0, p1, p2, [Img1, Img2])\n",
    "o1, o2 = np.hsplit(overlap, 2)\n",
    "\n",
    "ax2.imshow((o1+o2)/np.max(o1+o2)); ax2.set_axis_off()"
   ]
  },
  {
   "cell_type": "code",
   "execution_count": null,
   "metadata": {},
   "outputs": [],
   "source": [
    "cOptical1, cOptical2 = OpticalFlow.OpticalFlow(o1/np.max(o1), o2/np.max(o2), ransac_tol=5)"
   ]
  },
  {
   "cell_type": "code",
   "execution_count": null,
   "metadata": {},
   "outputs": [],
   "source": [
    "c1o, c2o = c1+cOptical1/2, c2-cOptical2/2\n",
    "img2, _, _, p1, p2 = Tools.mergeAndWarpImages(p0, p0, c1o, c2o, 2, translation, rotation, center, [Img1, Img2])\n",
    "plt.figure(figsize=(20, 8)); plt.imshow(img2/np.max(img2)); plt.axis('off')\n",
    "\n",
    "overlap = Tools.refineAndConcatenateOverlaps(p0, p1, p2, [Img1, Img2])\n",
    "o1O, o2O = np.hsplit(overlap, 2)\n",
    "\n",
    "_, ((ax1, ax2), (ax3, ax4)) = plt.subplots(2, 2, figsize=(20, 16), constrained_layout=True)\n",
    "ax1.imshow((o1+o2)/np.max(o1+o2)); ax1.set_axis_off()\n",
    "ax2.imshow(np.abs(o1-o2)/np.max(np.abs(o1-o2))); ax2.set_axis_off()\n",
    "ax3.imshow((o1O+o2O)/np.max(o1O+o2O)); ax3.set_axis_off()\n",
    "ax4.imshow(np.abs(o1O-o2O)/np.max(np.abs(o1O-o2O))); ax4.set_axis_off()"
   ]
  },
  {
   "cell_type": "code",
   "execution_count": null,
   "metadata": {},
   "outputs": [],
   "source": [
    "i1, i2 = FlowTools.padImages(o1+o2, o1O+o2O)\n",
    "plt.figure(figsize=(15, 15)); plt.imshow(np.abs(i1-i2)/np.max(np.abs(i1-i2))); plt.axis('off')"
   ]
  }
 ],
 "metadata": {
  "kernelspec": {
   "display_name": "Python 3",
   "language": "python",
   "name": "python3"
  },
  "language_info": {
   "codemirror_mode": {
    "name": "ipython",
    "version": 3
   },
   "file_extension": ".py",
   "mimetype": "text/x-python",
   "name": "python",
   "nbconvert_exporter": "python",
   "pygments_lexer": "ipython3",
   "version": "3.11.6"
  }
 },
 "nbformat": 4,
 "nbformat_minor": 2
}

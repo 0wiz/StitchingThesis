{
 "cells": [
  {
   "cell_type": "code",
   "execution_count": 1,
   "metadata": {},
   "outputs": [],
   "source": [
    "# Local\n",
    "from resources import Tools # type: ignore\n",
    "from resources import FlowTools # type: ignore\n",
    "\n",
    "# Math\n",
    "import numpy as np\n",
    "import matplotlib.pyplot as plt\n",
    "\n",
    "# Data\n",
    "import cv2 as cv"
   ]
  },
  {
   "cell_type": "code",
   "execution_count": 2,
   "metadata": {},
   "outputs": [],
   "source": [
    "# Get image from file\n",
    "file = 'Source/Vary Clouds (South Horizon)/#9 2024-04-08 13.05.13.png'\n",
    "Img1, Img2 = np.hsplit(cv.imread(file)[:,:,::-1], 2)\n",
    "imgH, imgW = Img1.shape[:2]\n",
    "\n",
    "# General\n",
    "Tools.displaySettings()\n",
    "order = 2"
   ]
  },
  {
   "cell_type": "code",
   "execution_count": null,
   "metadata": {},
   "outputs": [],
   "source": [
    "# Detect and match features\n",
    "featureFinder = cv.SIFT_create()\n",
    "kp1, des1 = featureFinder.detectAndCompute(cv.cvtColor(Img1[:,:,::-1], cv.COLOR_BGR2GRAY), None)\n",
    "kp2, des2 = featureFinder.detectAndCompute(cv.cvtColor(Img2[:,:,::-1], cv.COLOR_BGR2GRAY), None)\n",
    "matcher = cv.BFMatcher(crossCheck=True)\n",
    "matches = matcher.match(des1, des2)\n",
    "\n",
    "\"\"\" Filter with out matches lower than median similarity, then use RANSAC \"\"\"\n",
    "def RANSACMedSim(matches, t=30):\n",
    "    matches = sorted(matches, key=lambda m: m.distance)[:len(matches)//2]\n",
    "    p1, p2 = Tools.getMatchPoints(matches, kp1, kp2)\n",
    "    _, labels = cv.findHomography(p1.T, p2.T, cv.RANSAC, t)\n",
    "    return [matches[i] for i,l in enumerate(labels) if l == 1]\n",
    "\n",
    "# Filter matches and determine alignment\n",
    "filterMatches = RANSACMedSim(matches)\n",
    "c1 = c2 = np.zeros((Tools.polyTerms2D(order), 2))\n",
    "p1G, p2G, translation, rotation, center, _ = Tools.globalAlignment(*Tools.getMatchPoints(filterMatches, kp1, kp2))\n",
    "_, _, c1, c2 = Tools.localAlignment(p1G, p2G, c1, c2, order, 'Powell', 1e-18)\n",
    "\n",
    "# Apply alignment and blend\n",
    "p0 = np.array([np.repeat(range(imgW), imgH), np.tile(range(imgH), imgW)])\n",
    "panorama, _, _, p1, p2 = Tools.mergeAndWarpImages(p0, p0, c1, c2, order, translation, rotation, center, [Img1, Img2])\n",
    "img1, img2 = np.hsplit(Tools.refineAndConcatenateOverlaps(p0, p1, p2, [Img1, Img2]), 2)\n",
    "\n",
    "# Plot result from feature detection\n",
    "_, (ax1, ax2) = plt.subplots(1, 2, figsize=(20, 8), width_ratios=(1.4, 1), constrained_layout=True)\n",
    "ax1.imshow(panorama/np.max(panorama)); ax1.set_title('Panorama after Feature Detection'); ax1.set_axis_off()\n",
    "ax2.imshow((img1+img2)/np.max(img1+img2)); ax2.set_title('Sum of Refined Overlaps'); ax2.set_axis_off()"
   ]
  },
  {
   "cell_type": "code",
   "execution_count": 4,
   "metadata": {},
   "outputs": [],
   "source": [
    "# Optical Flow\n",
    "dic, _, _ = FlowTools.findBestGPC(img1/np.max(img1), img2/np.max(img2))\n",
    "dic.rollWindowAndFindBestGPC(stepLength=150, windowSize=200, extraWiggle=50)\n",
    "dic.filterMissMatched(ransac_tol=5)\n",
    "dic.warp(order)\n",
    "dic.optimizeWarping(order)\n",
    "dic.warp(order=order, optimized=True)\n",
    "c = dic.OptimizeResult.x.reshape(dic.sUV0.shape)\n",
    "c1, c2 = c1+c, c2-c"
   ]
  },
  {
   "cell_type": "code",
   "execution_count": null,
   "metadata": {},
   "outputs": [],
   "source": [
    "panorama, _, _, p1, p2 = Tools.mergeAndWarpImages(p0, p0, c1, c2, order, translation, rotation, center, [Img1, Img2])\n",
    "o1O, o2O = np.hsplit(Tools.refineAndConcatenateOverlaps(p0, p1, p2, [Img1, Img2]), 2)\n",
    "i1, i2 = FlowTools.padImages(img1+img2, o1O+o2O); diff = np.abs(i1-i2)\n",
    "\n",
    "_, (ax1, ax2) = plt.subplots(1, 2, figsize=(20, 8), constrained_layout=True)\n",
    "ax1.imshow(np.abs(img1-img2)/np.max(np.abs(img1-img2))); ax1.set_title('Difference between Images after Feature Detection'); ax1.set_axis_off()\n",
    "ax2.imshow(np.abs(o1O-o2O)/np.max(np.abs(o1O-o2O)));  ax2.set_title('Difference between Images after Optical Flow'); ax2.set_axis_off()\n",
    "_, (ax1, ax2) = plt.subplots(1, 2, figsize=(20, 8), width_ratios=(1.4, 1), constrained_layout=True)\n",
    "ax1.imshow(panorama/np.max(panorama)); ax1.set_title('Panorama after Feature Detection and Optical Flow'); ax1.set_axis_off()\n",
    "ax2.imshow(diff/np.max(diff)); ax2.set_title('Difference before and after Optical Flow '); ax2.set_axis_off()"
   ]
  }
 ],
 "metadata": {
  "kernelspec": {
   "display_name": "Python 3",
   "language": "python",
   "name": "python3"
  },
  "language_info": {
   "codemirror_mode": {
    "name": "ipython",
    "version": 3
   },
   "file_extension": ".py",
   "mimetype": "text/x-python",
   "name": "python",
   "nbconvert_exporter": "python",
   "pygments_lexer": "ipython3",
   "version": "3.11.6"
  }
 },
 "nbformat": 4,
 "nbformat_minor": 2
}

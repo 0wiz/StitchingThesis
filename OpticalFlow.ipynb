{
 "cells": [
  {
   "cell_type": "code",
   "execution_count": 1,
   "metadata": {},
   "outputs": [],
   "source": [
    "# Local\n",
    "import resources.image_interpolator as tools # type: ignore\n",
    "import resources.dic_tools as flowTools # type: ignore\n",
    "from resources.dic_Class import DicClass # type: ignore\n",
    "\n",
    "# Math\n",
    "import numpy as np\n",
    "import matplotlib.pyplot as plt\n",
    "import matplotlib as mlab"
   ]
  },
  {
   "cell_type": "code",
   "execution_count": 2,
   "metadata": {},
   "outputs": [],
   "source": [
    "# Get image from file\n",
    "file = 'Source/Vary Clouds (South Horizon)/#9 2024-04-08 13.05.13.png'\n",
    "img1, img2 = np.hsplit(plt.imread(file), 2)\n",
    "\n",
    "# Display Settings\n",
    "np.set_printoptions(3, linewidth=200)\n",
    "mlab.rc('legend', fontsize=12)\n",
    "mlab.rcParams['axes.formatter.use_mathtext'] = True\n",
    "plt.rc('font', family='serif', serif='cmr10', size=plt.rcParams['legend.fontsize']+4)\n",
    "plt.rc('axes', unicode_minus=False)\n",
    "\n",
    "# General\n",
    "order = 2\n",
    "ransac_tol = 30"
   ]
  },
  {
   "cell_type": "code",
   "execution_count": null,
   "metadata": {},
   "outputs": [],
   "source": [
    "bigPicDic, chosen_combo, _ = flowTools.findBestGPC(img2, img1)\n",
    "print(np.mean(bigPicDic.overlap_quality), chosen_combo)\n",
    "bigPicDic.showOverlap()"
   ]
  },
  {
   "cell_type": "code",
   "execution_count": null,
   "metadata": {},
   "outputs": [],
   "source": []
  },
  {
   "cell_type": "code",
   "execution_count": null,
   "metadata": {},
   "outputs": [],
   "source": []
  },
  {
   "cell_type": "code",
   "execution_count": null,
   "metadata": {},
   "outputs": [],
   "source": []
  },
  {
   "cell_type": "code",
   "execution_count": null,
   "metadata": {},
   "outputs": [],
   "source": []
  },
  {
   "cell_type": "code",
   "execution_count": null,
   "metadata": {},
   "outputs": [],
   "source": [
    "smallerDIC, chosen_combo, _ = flowTools.findBestGPC(bigPicDic.img1_overlap[300:500,500:700,:], bigPicDic.img2_overlap[300:500,500:700,:])\n",
    "smallerDIC.showOverlap()\n",
    "print(chosen_combo)"
   ]
  },
  {
   "cell_type": "code",
   "execution_count": 5,
   "metadata": {},
   "outputs": [],
   "source": [
    "# cvFont = (cv.FONT_HERSHEY_DUPLEX, 1, (0,0,0), 2, cv.LINE_AA) # (fontFace, fontScale, color, thickness, lineType)\n",
    "\n",
    "# # Draw box(es) with text(s) on an OpenCV image\n",
    "# def cvTextBox(img, text, loc, font=cvFont, margin=7, alpha=.4, bg=255):\n",
    "#     if isinstance(text, str):\n",
    "#         text, loc = [text], [loc]\n",
    "\n",
    "#     for label, (x, y) in reversed(list(zip(text, loc))):\n",
    "#         w, h = cv.getTextSize(label, *font[:2], font[3])[0] # Width, Height\n",
    "#         l, t, r, b = x-margin, y+margin+3, x+w+margin, y-h-margin # Left, Top, Right, Bottom\n",
    "#         sub = img[b:t,l:r]\n",
    "#         img[b:t,l:r] = cv.addWeighted(sub, 1-alpha, np.ones_like(sub)*bg, alpha, 1)\n",
    "#         cv.putText(img, label, (x, y), *font)\n",
    "\n",
    "#     return img"
   ]
  },
  {
   "cell_type": "code",
   "execution_count": null,
   "metadata": {},
   "outputs": [],
   "source": [
    "smallerDIC, chosen_combo, _ = flowTools.findBestGPC(bigPicDic.img1_overlap, bigPicDic.img2_overlap)\n",
    "smallerDIC.showImages()\n",
    "smallerDIC.showOverlap()"
   ]
  },
  {
   "cell_type": "code",
   "execution_count": null,
   "metadata": {},
   "outputs": [],
   "source": [
    "smallerDIC.rollWindowAndFindBestGPC(150, 200, 200, extraWiggle=50)\n",
    "flowTools.getInternalReport(smallerDIC, True)\n",
    "flowTools.showInternalResults(smallerDIC)"
   ]
  },
  {
   "cell_type": "code",
   "execution_count": null,
   "metadata": {},
   "outputs": [],
   "source": []
  },
  {
   "cell_type": "code",
   "execution_count": null,
   "metadata": {},
   "outputs": [],
   "source": []
  },
  {
   "cell_type": "code",
   "execution_count": null,
   "metadata": {},
   "outputs": [],
   "source": [
    "smallerDIC2 = DicClass()\n",
    "smallerDIC2.defineImages(bigPicDic.img1_overlap, bigPicDic.img2_overlap)\n",
    "\n",
    "smallerDIC2.img1_overlap = bigPicDic.img1_overlap\n",
    "smallerDIC2.img2_overlap = bigPicDic.img2_overlap\n",
    "smallerDIC2.windowSizeX = smallerDIC.windowSizeX\n",
    "smallerDIC2.windowSizeY = smallerDIC.windowSizeY\n",
    "\n",
    "smallerDIC2.filterMissMatched(smallerDIC, ransac_tol)\n",
    "smallerDIC2.warp(order)\n",
    "elsq = flowTools.error_minimization(smallerDIC2.sUV0, smallerDIC2, order, smallerDIC2.sUV0.shape)\n",
    "flowTools.showWarpComparison(smallerDIC2.img1, smallerDIC2.img2, smallerDIC2.warpedImage)\n",
    "flowTools.getInternalReport(smallerDIC2)\n",
    "flowTools.showInternalResults(smallerDIC2)"
   ]
  },
  {
   "cell_type": "code",
   "execution_count": null,
   "metadata": {},
   "outputs": [],
   "source": [
    "c_dis = np.array([smallerDIC2.sUV0[:,0],-smallerDIC2.sUV0[:,1]]).T\n",
    "c_no_dis = np.zeros_like(c_dis)\n",
    "overlapDisplacement = np.array([-bigPicDic.overlappingPoint[1],bigPicDic.overlappingPoint[0]]).reshape(2, 1)\n",
    "\n",
    "imgs = [(tools.maxC*bigPicDic.img2/bigPicDic.img2.max()).astype(int),\n",
    "        (tools.maxC*bigPicDic.img1/bigPicDic.img1.max()).astype(int)]\n",
    "\n",
    "p01, p1, p2, img = tools.opticalFlowInterpolator(bigPicDic.img1, bigPicDic.img2, c_dis, c_no_dis, order, overlapDisplacement, imgs)\n",
    "overlap = tools.refineAndConcatenateOverlaps(p01, p1, p2+overlapDisplacement, imgs)\n",
    "plt.figure(figsize=(15, 15)); plt.imshow(overlap/np.max(overlap)); plt.axis('off')\n",
    "plt.figure(figsize=(15, 15)); plt.imshow(img/np.max(img)); plt.axis('off')"
   ]
  },
  {
   "cell_type": "code",
   "execution_count": null,
   "metadata": {},
   "outputs": [],
   "source": [
    "smallerDIC2.optimizeWarping(order)\n",
    "print(smallerDIC2.OptimizeResult)\n",
    "print(np.reshape(smallerDIC2.sUV0.ravel(), smallerDIC2.sUV0.shape))\n",
    "eopt = flowTools.error_minimization(smallerDIC2.OptimizeResult.x, smallerDIC2, order, smallerDIC2.sUV0.shape)"
   ]
  },
  {
   "cell_type": "code",
   "execution_count": null,
   "metadata": {},
   "outputs": [],
   "source": [
    "print('Least square error = %.5f' % elsq)\n",
    "print('Optimization error = %.5f' % eopt)"
   ]
  },
  {
   "cell_type": "code",
   "execution_count": null,
   "metadata": {},
   "outputs": [],
   "source": [
    "smallerDIC2.warp(optimized=True)\n",
    "flowTools.showWarpComparison(smallerDIC2.img1, smallerDIC2.img2, smallerDIC2.warpedImage)"
   ]
  },
  {
   "cell_type": "code",
   "execution_count": null,
   "metadata": {},
   "outputs": [],
   "source": [
    "C = smallerDIC2.OptimizeResult.x.reshape(smallerDIC2.sUV0.shape)\n",
    "c_dis = np.array([C[:,0], -C[:,1]]).T\n",
    "c_no_dis = np.zeros_like(c_dis)\n",
    "if flowTools.findTriangle(c_dis.size//2) < order+1:\n",
    "    c_dis = np.concatenate([c_dis, np.zeros_like(c_dis)], axis=1)\n",
    "    c_no_dis = np.zeros_like(c_dis)\n",
    "\n",
    "overlapDisplacement = np.array([-bigPicDic.overlappingPoint[1],bigPicDic.overlappingPoint[0]]).reshape(2, 1)\n",
    "\n",
    "imgs = [(tools.maxC*bigPicDic.img2/bigPicDic.img2.max()).astype(int),\n",
    "        (tools.maxC*bigPicDic.img1/bigPicDic.img1.max()).astype(int)]\n",
    "\n",
    "p01, p1, p2, img = tools.opticalFlowInterpolator(bigPicDic.img2, bigPicDic.img1, c_dis, c_no_dis, order, overlapDisplacement, imgs)\n",
    "overlap = tools.refineAndConcatenateOverlaps(p01, p1, p2+overlapDisplacement, imgs)\n",
    "plt.figure(figsize=(15, 15)); plt.imshow(overlap/np.max(overlap)); plt.axis('off')\n",
    "plt.figure(figsize=(15, 15)); plt.imshow(img/np.max(img)); plt.axis('off')"
   ]
  },
  {
   "cell_type": "code",
   "execution_count": null,
   "metadata": {},
   "outputs": [],
   "source": [
    "overlap1, overlap2 = np.hsplit(overlap, 2)\n",
    "evenout, chosen_combo, _ = flowTools.findBestGPC(overlap2/np.max(overlap2), overlap1/np.max(overlap1))\n",
    "evenout.showOverlap()\n",
    "evenout.rollWindowAndFindBestGPC(50, 75, 75, extraWiggle=50)"
   ]
  },
  {
   "cell_type": "code",
   "execution_count": null,
   "metadata": {},
   "outputs": [],
   "source": []
  },
  {
   "cell_type": "code",
   "execution_count": null,
   "metadata": {},
   "outputs": [],
   "source": [
    "flowTools.getInternalReport(evenout)\n",
    "flowTools.showInternalResults(evenout)"
   ]
  },
  {
   "cell_type": "code",
   "execution_count": null,
   "metadata": {},
   "outputs": [],
   "source": [
    "evenout2 = DicClass()\n",
    "evenout2.defineImages(evenout.img1/np.max(evenout.img1), evenout.img2/np.max(evenout.img2))\n",
    "\n",
    "evenout2.img1_overlap = evenout.img1_overlap\n",
    "evenout2.img2_overlap = evenout.img2_overlap\n",
    "evenout2.windowSizeX = evenout.windowSizeX\n",
    "evenout2.windowSizeY = evenout.windowSizeY\n",
    "\n",
    "evenout2.filterMissMatched(evenout, ransac_tol+10)\n",
    "order = 3\n",
    "evenout2.showQuiver()\n",
    "evenout2.warp(order)\n",
    "evenout2.optimizeWarping(order)\n",
    "evenout2.warp(optimized=True)\n",
    "\n",
    "flowTools.getInternalReport(evenout2)\n",
    "flowTools.showWarpComparison(evenout2.img1, evenout2.img2, evenout2.warpedImage)"
   ]
  },
  {
   "cell_type": "code",
   "execution_count": null,
   "metadata": {},
   "outputs": [],
   "source": [
    "order1 = flowTools.findTriangle(smallerDIC2.sUV0.size//2)\n",
    "order2 = flowTools.findTriangle(evenout2.sUV0.size//2)\n",
    "\n",
    "order1BiggerOrder2 = order1 > order2\n",
    "sUV0Shape = smallerDIC2.sUV0.shape if order1BiggerOrder2 else evenout2.sUV0.shape\n",
    "\n",
    "C_opt = np.zeros(sUV0Shape)\n",
    "C_lsq = np.zeros(sUV0Shape)\n",
    "C = np.zeros(sUV0Shape)\n",
    "\n",
    "if smallerDIC2.OptimizeResult is not None:\n",
    "    smallCs = smallerDIC2.OptimizeResult.x.reshape(smallerDIC2.sUV0.shape)\n",
    "    smallCsZeros = np.zeros(sUV0Shape)\n",
    "    if order1 == order2 or order1BiggerOrder2:\n",
    "        smallCsZeros = smallCs\n",
    "    else:\n",
    "        smallCsZeros = np.array([flowTools.mapOldOrderToNewOrder(smallCs[:,0], order1, order2),\n",
    "                                 flowTools.mapOldOrderToNewOrder(smallCs[:,1], order1, order2)]).T\n",
    "    C_opt += smallCsZeros\n",
    "elif smallerDIC2.sUV0 is not None:\n",
    "    C_lsq += smallerDIC2.sUV0\n",
    "if evenout2.OptimizeResult is not None:\n",
    "    smallCs = evenout2.OptimizeResult.x.reshape(evenout2.sUV0.shape)\n",
    "    smallCsZeros = np.zeros(sUV0Shape)\n",
    "    if order1 == order2 or not order1BiggerOrder2:\n",
    "        smallCsZeros = smallCs\n",
    "    else:\n",
    "        smallCsZeros = np.array([flowTools.mapOldOrderToNewOrder(smallCs[:,0], order2, order1),\n",
    "                                 flowTools.mapOldOrderToNewOrder(smallCs[:,1], order2, order1)]).T\n",
    "    C_opt += smallCsZeros\n",
    "elif evenout2.sUV0 is not None:\n",
    "    C_lsq += evenout2.sUV0\n",
    "\n",
    "C += np.concatenate([C_opt[:,0,None], -C_opt[:,1,None]], axis=1)\n",
    "C += np.concatenate([C_lsq[:,0,None], -C_lsq[:,1,None]], axis=1)\n",
    "\n",
    "print('C.T =\\n' + str(C.T))\n",
    "c_no_dis = np.zeros_like(C)\n",
    "print('overlappingPoint = ' + str(bigPicDic.overlappingPoint))\n",
    "displacment = np.array([-bigPicDic.overlappingPoint[1],bigPicDic.overlappingPoint[0]]).reshape(2,1)\n",
    "\n",
    "imgs = [(tools.maxC*bigPicDic.img2/bigPicDic.img2.max()).astype(int),\n",
    "        (tools.maxC*bigPicDic.img1/bigPicDic.img1.max()).astype(int)]\n",
    "\n",
    "p01, p1, p2, img = tools.opticalFlowInterpolator(bigPicDic.img2, bigPicDic.img1, C, c_no_dis, order, overlapDisplacement, imgs, showTranslation=True)\n",
    "overlap = tools.refineAndConcatenateOverlaps(p01, p1, p2+overlapDisplacement, imgs)\n",
    "plt.figure(figsize=(15, 15)); plt.imshow(overlap/np.max(overlap)); plt.axis('off')\n",
    "plt.figure(figsize=(15, 15)); plt.imshow(img/np.max(img)); plt.axis('off')"
   ]
  },
  {
   "cell_type": "code",
   "execution_count": null,
   "metadata": {},
   "outputs": [],
   "source": [
    "fig, (ax1, ax2, ax3) = plt.subplots(1, 3, figsize=(20, 8), constrained_layout=True)\n",
    "\n",
    "A = np.mean(evenout.img2, axis=-1)\n",
    "B = np.mean(evenout.img1, axis=-1)\n",
    "C = np.mean(evenout2.warpedImage, axis=-1)\n",
    "           \n",
    "ax1.imshow(np.abs(A - B)); ax1.set_title('$|A - B|$'); ax1.set_axis_off()\n",
    "ax2.imshow(np.abs(A - C)); ax2.set_title('$|A - C|$'); ax2.set_axis_off()\n",
    "ax3.imshow(np.abs(np.abs(A - C) - np.abs(A - B))); ax3.set_title('$||A - B| - |A - C||$'); ax3.set_axis_off()"
   ]
  },
  {
   "cell_type": "code",
   "execution_count": null,
   "metadata": {},
   "outputs": [],
   "source": []
  }
 ],
 "metadata": {
  "kernelspec": {
   "display_name": "Python 3",
   "language": "python",
   "name": "python3"
  },
  "language_info": {
   "codemirror_mode": {
    "name": "ipython",
    "version": 3
   },
   "file_extension": ".py",
   "mimetype": "text/x-python",
   "name": "python",
   "nbconvert_exporter": "python",
   "pygments_lexer": "ipython3",
   "version": "3.11.6"
  }
 },
 "nbformat": 4,
 "nbformat_minor": 2
}
